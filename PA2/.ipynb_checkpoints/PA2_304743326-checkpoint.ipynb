{
 "cells": [
  {
   "cell_type": "code",
   "execution_count": 40,
   "metadata": {
    "collapsed": true
   },
   "outputs": [],
   "source": [
    "import numpy as np\n",
    "import scipy.stats as sp\n",
    "import pandas as pd\n",
    "import sklearn.preprocessing as sk"
   ]
  },
  {
   "cell_type": "code",
   "execution_count": 41,
   "metadata": {
    "collapsed": false
   },
   "outputs": [],
   "source": [
    "data = pd.read_csv('gwas_data.txt', delim_whitespace=True, low_memory=False)\n",
    "df = pd.DataFrame(data)"
   ]
  },
  {
   "cell_type": "code",
   "execution_count": 42,
   "metadata": {
    "collapsed": false
   },
   "outputs": [],
   "source": [
    "y = df['Phenotype']\n",
    "X = df.drop('Phenotype', 1)\n",
    "X = sk.scale(X)\n",
    "N = X.shape"
   ]
  },
  {
   "cell_type": "code",
   "execution_count": 61,
   "metadata": {
    "collapsed": false,
    "scrolled": false
   },
   "outputs": [
    {
     "name": "stdout",
     "output_type": "stream",
     "text": [
      "[ 0.13193479  0.51978939 -1.16640698 ..., -0.16751492 -1.64622281\n",
      " -0.13874255]\n"
     ]
    }
   ],
   "source": [
    "beta = np.dot(np.transpose(X),y)/N[0]\n",
    "S = np.zeros(N[1])\n",
    "for i in range(N[1]):\n",
    "    e = y-np.mean(y)-beta[i]*X[:,i]\n",
    "    sigma = np.sqrt(np.dot(e,e)/(N[0]-2))\n",
    "    S[i] = beta[i]*np.sqrt(N[0])/sigma\n",
    "\n",
    "_S = [-s if s>0 else s for s in S]\n",
    "pvalue = sp.norm.cdf(_S)*2"
   ]
  },
  {
   "cell_type": "code",
   "execution_count": 54,
   "metadata": {
    "collapsed": false
   },
   "outputs": [],
   "source": [
    "alpha = 0.05/N[1]\n",
    "threshold = sp.norm.ppf(alpha/2)\n",
    "sig_snp_index = np.where(_S<threshold)\n",
    "sig_snp = sig_snp_index[0].tolist()"
   ]
  },
  {
   "cell_type": "code",
   "execution_count": 112,
   "metadata": {
    "collapsed": false
   },
   "outputs": [],
   "source": [
    "_X = X\n",
    "for i in range(N[0]):\n",
    "    _X[i] /= np.linalg.norm(X[i])\n",
    "\n",
    "_X /= N[0]\n",
    "avg_k = 0\n",
    "K = np.dot(_X, np.transpose(_X))\n",
    "for i in range(N[0]):\n",
    "    for j in range(i+1, N[0]):\n",
    "        avg_k += K[i][j]\n",
    "avg_k /= ((N[0]*(N[0]-1))/2)"
   ]
  },
  {
   "cell_type": "code",
   "execution_count": 113,
   "metadata": {
    "collapsed": false
   },
   "outputs": [],
   "source": [
    "fout = open('PA2_304743326.txt', 'w+')\n",
    "header = 'UID:304743326\\n'+'email:a5834929@gmail.com\\n'+'Undergrad or Grad:Grad\\n'\n",
    "fout.write(header+'<A>\\n')\n",
    "for i in range(len(pvalue)):\n",
    "    fout.write('SNP%04d:%.10f,%.10f\\n' % (i, beta[i], pvalue[i]))\n",
    "fout.write('</A>\\n<B>\\n')\n",
    "for i in sig_snp:\n",
    "    fout.write('SNP%04d\\n' % i)\n",
    "fout.write('</B>\\n<C>\\nAVG_K:%.10f\\n</C>' % avg_k)\n",
    "fout.close()"
   ]
  },
  {
   "cell_type": "code",
   "execution_count": null,
   "metadata": {
    "collapsed": true
   },
   "outputs": [],
   "source": []
  }
 ],
 "metadata": {
  "anaconda-cloud": {},
  "kernelspec": {
   "display_name": "Python [conda root]",
   "language": "python",
   "name": "conda-root-py"
  },
  "language_info": {
   "codemirror_mode": {
    "name": "ipython",
    "version": 3
   },
   "file_extension": ".py",
   "mimetype": "text/x-python",
   "name": "python",
   "nbconvert_exporter": "python",
   "pygments_lexer": "ipython3",
   "version": "3.5.2"
  }
 },
 "nbformat": 4,
 "nbformat_minor": 1
}
