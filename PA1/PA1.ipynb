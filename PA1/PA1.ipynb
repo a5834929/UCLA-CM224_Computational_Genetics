{
 "cells": [
  {
   "cell_type": "code",
   "execution_count": 1,
   "metadata": {
    "collapsed": false
   },
   "outputs": [],
   "source": [
    "import pandas as pd\n",
    "import numpy as np\n",
    "\n",
    "data = pd.read_csv('SNP_status.txt', delim_whitespace = True)"
   ]
  },
  {
   "cell_type": "code",
   "execution_count": 2,
   "metadata": {
    "collapsed": true
   },
   "outputs": [],
   "source": [
    "# datafram where status is case\n",
    "SNP_Case = data.ix[(data['Status'] == 'Case')]\n",
    "# datafram where status is control\n",
    "SNP_Ctrl = data.ix[(data['Status'] == 'Control')]\n",
    "\n",
    "# sum of each case SNP\n",
    "CaseSNPsum = SNP_Case.ix[:,:100000].sum()\n",
    "\n",
    "# sum of each control SNP\n",
    "CtrlSNPsum = SNP_Ctrl.ix[:,:100000].sum()"
   ]
  },
  {
   "cell_type": "code",
   "execution_count": 3,
   "metadata": {
    "collapsed": false
   },
   "outputs": [],
   "source": [
    "from scipy import stats\n",
    "(tstat, pval) = stats.ttest_ind(SNP_Case.ix[:,:100000], SNP_Ctrl.ix[:,:100000])"
   ]
  },
  {
   "cell_type": "code",
   "execution_count": 4,
   "metadata": {
    "collapsed": true
   },
   "outputs": [],
   "source": [
    "(tstat, pval) = stats.ttest_ind(SNP_Case.ix[:,:100000], SNP_Ctrl.ix[:,:100000])"
   ]
  },
  {
   "cell_type": "code",
   "execution_count": 5,
   "metadata": {
    "collapsed": false
   },
   "outputs": [],
   "source": [
    "tstat[np.isnan(tstat)] = 0\n",
    "pval[np.isnan(pval)] = 1"
   ]
  },
  {
   "cell_type": "code",
   "execution_count": 6,
   "metadata": {
    "collapsed": false
   },
   "outputs": [],
   "source": [
    "tstatList = tstat.tolist()\n",
    "tstatList.append(0)\n",
    "# pvalList = pval.tolist()\n",
    "# pvalList.append(0)"
   ]
  },
  {
   "cell_type": "code",
   "execution_count": 7,
   "metadata": {
    "collapsed": false
   },
   "outputs": [],
   "source": [
    "data.loc['T-statistic']= tstatList\n",
    "# data.loc['P-value']= pvalList"
   ]
  },
  {
   "cell_type": "code",
   "execution_count": 8,
   "metadata": {
    "collapsed": false
   },
   "outputs": [],
   "source": [
    "threshold = stats.norm.ppf(0.05/100000/2)"
   ]
  },
  {
   "cell_type": "code",
   "execution_count": 9,
   "metadata": {
    "collapsed": false
   },
   "outputs": [],
   "source": [
    "from scipy.stats import chi2\n",
    "\n",
    "# chi square\n",
    "# (chisqr, pval) = chisquare([CaseSNPsum.sum(), CtrlSNPsum.sum()], ddof =1)\n",
    "chisqr = chi2.median(df=1)\n",
    "# distribution\n",
    "tstatListArr = np.asarray(tstatList)\n",
    "tstatList_dist = tstatListArr ** 2\n",
    "medianOfDist = np.nanmedian(tstatList_dist)"
   ]
  },
  {
   "cell_type": "code",
   "execution_count": 11,
   "metadata": {
    "collapsed": false
   },
   "outputs": [
    {
     "name": "stdout",
     "output_type": "stream",
     "text": [
      "0.989717848736\n"
     ]
    }
   ],
   "source": [
    "# genomic control statistic\n",
    "lumbda_gc = medianOfDist/chisqr\n",
    "print(lumbda_gc)"
   ]
  },
  {
   "cell_type": "code",
   "execution_count": 12,
   "metadata": {
    "collapsed": false
   },
   "outputs": [],
   "source": [
    "SNPindex = np.where((tstat < threshold) | (tstat > -threshold))\n",
    "SNP = np.where(pval)"
   ]
  },
  {
   "cell_type": "code",
   "execution_count": null,
   "metadata": {
    "collapsed": false
   },
   "outputs": [],
   "source": [
    "# dataT['P-value'].to_csv(r'SNP_pval.txt', sep=' ', mode='w+')\n",
    "# thfile = open('SNP_pval.txt', 'w+')\n",
    "# for _SNP in SNP[0]:\n",
    "#     thfile.write(\"SNP%05d %.10f\\n\" % (int(_SNP), pval[_SNP]))\n",
    "# thfile.close()\n",
    "\n",
    "# thefile = open('sigSNP.txt', 'w+')\n",
    "# for sigSNP in SNPindex[0]:\n",
    "#     thefile.write(\"SNP%s %f\\n\" % (sigSNP, tstat[sigSNP]))\n",
    "# thefile.close()"
   ]
  },
  {
   "cell_type": "code",
   "execution_count": null,
   "metadata": {
    "collapsed": false
   },
   "outputs": [],
   "source": [
    "cout = open('test.txt', 'w+')\n",
    "cout.write(\"UID:404873765\\nemail:chweng@g.ucla.edu\\nUndergrad or Grad:Grad\\n<A>\\n\")\n",
    "for _SNP in SNP[0]:\n",
    "    cout.write(\"SNP%05d:%.5f\\n\" % (int(_SNP), pval[_SNP]))\n",
    "cout.write(\"</A>\\n<B>\\n\")\n",
    "for sigSNP in SNPindex[0]:\n",
    "    cout.write(\"SNP%s\\n\" % sigSNP)   \n",
    "cout.write(\"</B>\\n<C>\\nLambda_gc:%.5f\\n</C>\" % lumbda_gc)\n",
    "cout.close()"
   ]
  },
  {
   "cell_type": "code",
   "execution_count": null,
   "metadata": {
    "collapsed": false
   },
   "outputs": [],
   "source": [
    "import numpy as np \n",
    "import pylab \n",
    "import scipy.stats as stats\n",
    "stats.probplot(tstat, dist=\"norm\", plot=pylab)\n",
    "pylab.show()"
   ]
  }
 ],
 "metadata": {
  "anaconda-cloud": {},
  "kernelspec": {
   "display_name": "Python [conda root]",
   "language": "python",
   "name": "conda-root-py"
  },
  "language_info": {
   "codemirror_mode": {
    "name": "ipython",
    "version": 3
   },
   "file_extension": ".py",
   "mimetype": "text/x-python",
   "name": "python",
   "nbconvert_exporter": "python",
   "pygments_lexer": "ipython3",
   "version": "3.5.2"
  }
 },
 "nbformat": 4,
 "nbformat_minor": 2
}
